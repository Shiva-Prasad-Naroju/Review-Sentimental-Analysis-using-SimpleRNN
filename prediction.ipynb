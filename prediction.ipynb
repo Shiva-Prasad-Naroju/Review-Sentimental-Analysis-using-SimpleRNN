{
 "cells": [
  {
   "cell_type": "code",
   "execution_count": 2,
   "id": "408bda38",
   "metadata": {},
   "outputs": [],
   "source": [
    "import numpy as np\n",
    "import pandas as pd\n",
    "from tensorflow.keras.datasets import imdb\n",
    "from tensorflow.keras.preprocessing import sequence\n",
    "from tensorflow.keras.models import load_model"
   ]
  },
  {
   "cell_type": "code",
   "execution_count": 3,
   "id": "11a0da68",
   "metadata": {},
   "outputs": [],
   "source": [
    "# Load the imdb word index\n",
    "word_index = imdb.get_word_index()\n",
    "reverse_word_index = {k:i for i,k in word_index.items()}"
   ]
  },
  {
   "cell_type": "code",
   "execution_count": 5,
   "id": "8fe26280",
   "metadata": {},
   "outputs": [
    {
     "name": "stderr",
     "output_type": "stream",
     "text": [
      "WARNING:absl:Compiled the loaded model, but the compiled metrics have yet to be built. `model.compile_metrics` will be empty until you train or evaluate the model.\n"
     ]
    }
   ],
   "source": [
    "# Load the pre trained model with relu activation\n",
    "model = load_model(\"simple_rnn_imdb_model.h5\")"
   ]
  },
  {
   "cell_type": "code",
   "execution_count": 6,
   "id": "fdbdd600",
   "metadata": {},
   "outputs": [
    {
     "data": {
      "text/html": [
       "<pre style=\"white-space:pre;overflow-x:auto;line-height:normal;font-family:Menlo,'DejaVu Sans Mono',consolas,'Courier New',monospace\"><span style=\"font-weight: bold\">Model: \"sequential\"</span>\n",
       "</pre>\n"
      ],
      "text/plain": [
       "\u001b[1mModel: \"sequential\"\u001b[0m\n"
      ]
     },
     "metadata": {},
     "output_type": "display_data"
    },
    {
     "data": {
      "text/html": [
       "<pre style=\"white-space:pre;overflow-x:auto;line-height:normal;font-family:Menlo,'DejaVu Sans Mono',consolas,'Courier New',monospace\">┏━━━━━━━━━━━━━━━━━━━━━━━━━━━━━━━━━┳━━━━━━━━━━━━━━━━━━━━━━━━┳━━━━━━━━━━━━━━━┓\n",
       "┃<span style=\"font-weight: bold\"> Layer (type)                    </span>┃<span style=\"font-weight: bold\"> Output Shape           </span>┃<span style=\"font-weight: bold\">       Param # </span>┃\n",
       "┡━━━━━━━━━━━━━━━━━━━━━━━━━━━━━━━━━╇━━━━━━━━━━━━━━━━━━━━━━━━╇━━━━━━━━━━━━━━━┩\n",
       "│ embedding (<span style=\"color: #0087ff; text-decoration-color: #0087ff\">Embedding</span>)           │ (<span style=\"color: #00d7ff; text-decoration-color: #00d7ff\">None</span>, <span style=\"color: #00af00; text-decoration-color: #00af00\">200</span>, <span style=\"color: #00af00; text-decoration-color: #00af00\">128</span>)       │       <span style=\"color: #00af00; text-decoration-color: #00af00\">640,000</span> │\n",
       "├─────────────────────────────────┼────────────────────────┼───────────────┤\n",
       "│ simple_rnn (<span style=\"color: #0087ff; text-decoration-color: #0087ff\">SimpleRNN</span>)          │ (<span style=\"color: #00d7ff; text-decoration-color: #00d7ff\">None</span>, <span style=\"color: #00af00; text-decoration-color: #00af00\">128</span>)            │        <span style=\"color: #00af00; text-decoration-color: #00af00\">32,896</span> │\n",
       "├─────────────────────────────────┼────────────────────────┼───────────────┤\n",
       "│ dense (<span style=\"color: #0087ff; text-decoration-color: #0087ff\">Dense</span>)                   │ (<span style=\"color: #00d7ff; text-decoration-color: #00d7ff\">None</span>, <span style=\"color: #00af00; text-decoration-color: #00af00\">1</span>)              │           <span style=\"color: #00af00; text-decoration-color: #00af00\">129</span> │\n",
       "└─────────────────────────────────┴────────────────────────┴───────────────┘\n",
       "</pre>\n"
      ],
      "text/plain": [
       "┏━━━━━━━━━━━━━━━━━━━━━━━━━━━━━━━━━┳━━━━━━━━━━━━━━━━━━━━━━━━┳━━━━━━━━━━━━━━━┓\n",
       "┃\u001b[1m \u001b[0m\u001b[1mLayer (type)                   \u001b[0m\u001b[1m \u001b[0m┃\u001b[1m \u001b[0m\u001b[1mOutput Shape          \u001b[0m\u001b[1m \u001b[0m┃\u001b[1m \u001b[0m\u001b[1m      Param #\u001b[0m\u001b[1m \u001b[0m┃\n",
       "┡━━━━━━━━━━━━━━━━━━━━━━━━━━━━━━━━━╇━━━━━━━━━━━━━━━━━━━━━━━━╇━━━━━━━━━━━━━━━┩\n",
       "│ embedding (\u001b[38;5;33mEmbedding\u001b[0m)           │ (\u001b[38;5;45mNone\u001b[0m, \u001b[38;5;34m200\u001b[0m, \u001b[38;5;34m128\u001b[0m)       │       \u001b[38;5;34m640,000\u001b[0m │\n",
       "├─────────────────────────────────┼────────────────────────┼───────────────┤\n",
       "│ simple_rnn (\u001b[38;5;33mSimpleRNN\u001b[0m)          │ (\u001b[38;5;45mNone\u001b[0m, \u001b[38;5;34m128\u001b[0m)            │        \u001b[38;5;34m32,896\u001b[0m │\n",
       "├─────────────────────────────────┼────────────────────────┼───────────────┤\n",
       "│ dense (\u001b[38;5;33mDense\u001b[0m)                   │ (\u001b[38;5;45mNone\u001b[0m, \u001b[38;5;34m1\u001b[0m)              │           \u001b[38;5;34m129\u001b[0m │\n",
       "└─────────────────────────────────┴────────────────────────┴───────────────┘\n"
      ]
     },
     "metadata": {},
     "output_type": "display_data"
    },
    {
     "data": {
      "text/html": [
       "<pre style=\"white-space:pre;overflow-x:auto;line-height:normal;font-family:Menlo,'DejaVu Sans Mono',consolas,'Courier New',monospace\"><span style=\"font-weight: bold\"> Total params: </span><span style=\"color: #00af00; text-decoration-color: #00af00\">673,027</span> (2.57 MB)\n",
       "</pre>\n"
      ],
      "text/plain": [
       "\u001b[1m Total params: \u001b[0m\u001b[38;5;34m673,027\u001b[0m (2.57 MB)\n"
      ]
     },
     "metadata": {},
     "output_type": "display_data"
    },
    {
     "data": {
      "text/html": [
       "<pre style=\"white-space:pre;overflow-x:auto;line-height:normal;font-family:Menlo,'DejaVu Sans Mono',consolas,'Courier New',monospace\"><span style=\"font-weight: bold\"> Trainable params: </span><span style=\"color: #00af00; text-decoration-color: #00af00\">673,025</span> (2.57 MB)\n",
       "</pre>\n"
      ],
      "text/plain": [
       "\u001b[1m Trainable params: \u001b[0m\u001b[38;5;34m673,025\u001b[0m (2.57 MB)\n"
      ]
     },
     "metadata": {},
     "output_type": "display_data"
    },
    {
     "data": {
      "text/html": [
       "<pre style=\"white-space:pre;overflow-x:auto;line-height:normal;font-family:Menlo,'DejaVu Sans Mono',consolas,'Courier New',monospace\"><span style=\"font-weight: bold\"> Non-trainable params: </span><span style=\"color: #00af00; text-decoration-color: #00af00\">0</span> (0.00 B)\n",
       "</pre>\n"
      ],
      "text/plain": [
       "\u001b[1m Non-trainable params: \u001b[0m\u001b[38;5;34m0\u001b[0m (0.00 B)\n"
      ]
     },
     "metadata": {},
     "output_type": "display_data"
    },
    {
     "data": {
      "text/html": [
       "<pre style=\"white-space:pre;overflow-x:auto;line-height:normal;font-family:Menlo,'DejaVu Sans Mono',consolas,'Courier New',monospace\"><span style=\"font-weight: bold\"> Optimizer params: </span><span style=\"color: #00af00; text-decoration-color: #00af00\">2</span> (12.00 B)\n",
       "</pre>\n"
      ],
      "text/plain": [
       "\u001b[1m Optimizer params: \u001b[0m\u001b[38;5;34m2\u001b[0m (12.00 B)\n"
      ]
     },
     "metadata": {},
     "output_type": "display_data"
    }
   ],
   "source": [
    "model.summary()"
   ]
  },
  {
   "cell_type": "code",
   "execution_count": 10,
   "id": "c2cd1fe0",
   "metadata": {},
   "outputs": [
    {
     "data": {
      "text/plain": [
       "[array([[ 0.2542732 , -0.38829568, -0.41176113, ...,  0.35043806,\n",
       "         -0.48317268, -0.35481298],\n",
       "        [ 0.07972046, -0.07456745, -0.01280359, ...,  0.0293478 ,\n",
       "          0.01971475,  0.00334911],\n",
       "        [ 0.05337502, -0.08872852, -0.11428011, ...,  0.06800982,\n",
       "         -0.05343612, -0.07632264],\n",
       "        ...,\n",
       "        [-0.02782985, -0.06685129, -0.05013257, ...,  0.05162023,\n",
       "          0.04067054, -0.01635873],\n",
       "        [ 0.05884364,  0.093633  ,  0.03227792, ..., -0.03531241,\n",
       "          0.0071899 , -0.0007547 ],\n",
       "        [ 0.04884089,  0.04405098,  0.03144395, ..., -0.03500656,\n",
       "          0.04012063,  0.01774091]], dtype=float32),\n",
       " array([[ 0.06870462, -0.02216636, -0.12882617, ..., -0.1758387 ,\n",
       "         -0.08664479,  0.07376266],\n",
       "        [-0.01366845,  0.088795  , -0.12619664, ...,  0.01862177,\n",
       "          0.0092247 ,  0.09947606],\n",
       "        [ 0.1604495 ,  0.03832052,  0.02382835, ..., -0.02912327,\n",
       "          0.08097209, -0.01533709],\n",
       "        ...,\n",
       "        [-0.04434252, -0.11258852,  0.11908032, ..., -0.15664425,\n",
       "         -0.15669945, -0.03541585],\n",
       "        [ 0.03957567,  0.11289882,  0.08115232, ...,  0.05730461,\n",
       "          0.04759799, -0.07916028],\n",
       "        [-0.07351413,  0.15705779, -0.00173986, ..., -0.15020126,\n",
       "          0.11654481,  0.12906711]], dtype=float32),\n",
       " array([[-0.03289722,  0.04238304,  0.03239969, ...,  0.05185976,\n",
       "         -0.02053224, -0.04665923],\n",
       "        [-0.1778397 ,  0.01427709, -0.07423396, ...,  0.11843444,\n",
       "         -0.01458299,  0.01987169],\n",
       "        [-0.1462983 , -0.02429778, -0.05476708, ..., -0.2257939 ,\n",
       "         -0.09200932,  0.03358966],\n",
       "        ...,\n",
       "        [-0.20812431, -0.08680174,  0.06864791, ..., -0.03720645,\n",
       "         -0.06209752, -0.21924828],\n",
       "        [ 0.0618256 ,  0.18558557, -0.17385739, ..., -0.12281705,\n",
       "         -0.03011493, -0.07718664],\n",
       "        [-0.08253001, -0.00188634,  0.00798393, ...,  0.01800143,\n",
       "          0.0428069 , -0.06087618]], dtype=float32),\n",
       " array([ 0.03655714,  0.01604553, -0.01757663,  0.00045374, -0.01270551,\n",
       "        -0.03913713, -0.02134693,  0.00548247,  0.00296482, -0.01785713,\n",
       "         0.01342565,  0.02463541,  0.01623745, -0.02663531,  0.01991918,\n",
       "         0.01302005, -0.02668929,  0.00511258, -0.01200264, -0.02227332,\n",
       "         0.01511643, -0.0174944 ,  0.02523604,  0.00746705,  0.02699994,\n",
       "         0.00822448, -0.02057428, -0.00831966,  0.01345988,  0.00345945,\n",
       "        -0.0016439 , -0.02131614, -0.01132982, -0.01030411, -0.01229895,\n",
       "         0.00740993, -0.01955431,  0.01707932, -0.01032271, -0.0243243 ,\n",
       "         0.02108385,  0.00262873, -0.00862835, -0.01133849,  0.0217345 ,\n",
       "        -0.02661346, -0.00229039, -0.02763626,  0.04311201, -0.00170236,\n",
       "         0.04591075,  0.00574516, -0.00050197,  0.02519078, -0.03454489,\n",
       "        -0.01331538,  0.00836021,  0.00818394,  0.02529484, -0.0090217 ,\n",
       "        -0.01396096,  0.00586347, -0.0070899 , -0.0205581 , -0.00938371,\n",
       "         0.01399127, -0.01905583,  0.01417228, -0.00021838, -0.02487012,\n",
       "        -0.03025115,  0.01038361,  0.00567646,  0.0074495 , -0.0288348 ,\n",
       "        -0.01832833,  0.02157622,  0.01576644, -0.0158529 , -0.01057421,\n",
       "        -0.00521529, -0.00732534, -0.0114704 ,  0.02802721, -0.02880875,\n",
       "        -0.02029664, -0.02030522, -0.01572837, -0.03141889,  0.0170304 ,\n",
       "         0.02541595,  0.02731054, -0.00953313, -0.04491292, -0.01510804,\n",
       "         0.02012405, -0.01112933, -0.04703477,  0.01190407,  0.00423459,\n",
       "         0.00547977, -0.02230399, -0.01399613,  0.0005024 ,  0.0015667 ,\n",
       "         0.02744746, -0.00748166,  0.04150315, -0.0037464 , -0.02798181,\n",
       "        -0.02483297,  0.01394418,  0.01748946, -0.04363355, -0.01878993,\n",
       "         0.01159823,  0.01102588,  0.00899606, -0.01555499,  0.01017479,\n",
       "         0.00688627, -0.01117938,  0.02221613, -0.02127654,  0.01198203,\n",
       "         0.01189729, -0.02936771, -0.02171622], dtype=float32),\n",
       " array([[ 0.02033097],\n",
       "        [ 0.23425329],\n",
       "        [-0.2966729 ],\n",
       "        [ 0.2154434 ],\n",
       "        [-0.0537698 ],\n",
       "        [ 0.08948798],\n",
       "        [-0.04364047],\n",
       "        [ 0.27942955],\n",
       "        [ 0.03121685],\n",
       "        [ 0.11807588],\n",
       "        [-0.19728923],\n",
       "        [-0.25125217],\n",
       "        [-0.08293577],\n",
       "        [ 0.05068087],\n",
       "        [ 0.2686678 ],\n",
       "        [ 0.01590803],\n",
       "        [-0.11594334],\n",
       "        [-0.08870581],\n",
       "        [ 0.34304777],\n",
       "        [ 0.42805603],\n",
       "        [ 0.5246814 ],\n",
       "        [ 0.29723367],\n",
       "        [-0.2766933 ],\n",
       "        [ 0.34912992],\n",
       "        [ 0.1391565 ],\n",
       "        [ 0.25355956],\n",
       "        [ 0.6376552 ],\n",
       "        [ 0.5381073 ],\n",
       "        [-0.12159228],\n",
       "        [-0.21809542],\n",
       "        [ 0.03935977],\n",
       "        [ 0.35447177],\n",
       "        [ 0.23861055],\n",
       "        [-0.10520405],\n",
       "        [ 0.13367805],\n",
       "        [ 0.651708  ],\n",
       "        [-0.01599264],\n",
       "        [-0.25598806],\n",
       "        [ 0.23262879],\n",
       "        [ 0.0765131 ],\n",
       "        [-0.2102146 ],\n",
       "        [-0.17854995],\n",
       "        [ 0.33107367],\n",
       "        [ 0.08368497],\n",
       "        [ 0.22571743],\n",
       "        [-0.14865129],\n",
       "        [ 0.13066821],\n",
       "        [ 0.12062806],\n",
       "        [-0.00202452],\n",
       "        [ 0.12786835],\n",
       "        [-0.19277602],\n",
       "        [ 0.4481227 ],\n",
       "        [ 0.11075067],\n",
       "        [-0.25521785],\n",
       "        [-0.11555092],\n",
       "        [ 0.2158481 ],\n",
       "        [-0.09642672],\n",
       "        [ 0.18015058],\n",
       "        [-0.2356501 ],\n",
       "        [ 0.24442817],\n",
       "        [ 0.2264995 ],\n",
       "        [-0.2799857 ],\n",
       "        [ 0.12931062],\n",
       "        [ 0.20473725],\n",
       "        [-0.01871903],\n",
       "        [ 0.05524683],\n",
       "        [-0.20531756],\n",
       "        [-0.1409203 ],\n",
       "        [-0.26370266],\n",
       "        [ 0.00292418],\n",
       "        [ 0.26794177],\n",
       "        [-0.19341208],\n",
       "        [ 0.0202494 ],\n",
       "        [-0.18455648],\n",
       "        [-0.06501184],\n",
       "        [ 0.06436501],\n",
       "        [ 0.00320233],\n",
       "        [ 0.10476347],\n",
       "        [ 0.15274067],\n",
       "        [ 0.24058233],\n",
       "        [ 0.2082358 ],\n",
       "        [-0.01016927],\n",
       "        [-0.09360831],\n",
       "        [-0.02953915],\n",
       "        [-0.1448463 ],\n",
       "        [ 0.16172555],\n",
       "        [ 0.44903767],\n",
       "        [ 0.17105731],\n",
       "        [-0.16792917],\n",
       "        [ 0.08663541],\n",
       "        [ 0.05784554],\n",
       "        [ 0.14861818],\n",
       "        [ 0.21434355],\n",
       "        [-0.09965766],\n",
       "        [ 0.14009772],\n",
       "        [-0.22353749],\n",
       "        [ 0.07211009],\n",
       "        [-0.10335907],\n",
       "        [ 0.27264684],\n",
       "        [ 0.14490564],\n",
       "        [-0.15772189],\n",
       "        [-0.00169043],\n",
       "        [ 0.16972607],\n",
       "        [-0.07571192],\n",
       "        [-0.18438837],\n",
       "        [ 0.2648334 ],\n",
       "        [ 0.09716663],\n",
       "        [ 0.17068672],\n",
       "        [ 0.20414825],\n",
       "        [ 0.06105141],\n",
       "        [-0.43774426],\n",
       "        [-0.02011538],\n",
       "        [ 0.08265847],\n",
       "        [-0.17938179],\n",
       "        [-0.22254902],\n",
       "        [-0.07931028],\n",
       "        [ 0.07691792],\n",
       "        [-0.13458553],\n",
       "        [-0.17755382],\n",
       "        [ 0.12540379],\n",
       "        [ 0.4666689 ],\n",
       "        [ 0.07360986],\n",
       "        [-0.21972412],\n",
       "        [-0.02865658],\n",
       "        [-0.12752596],\n",
       "        [ 0.0245485 ],\n",
       "        [-0.07511999],\n",
       "        [ 0.05602071]], dtype=float32),\n",
       " array([0.3551872], dtype=float32)]"
      ]
     },
     "execution_count": 10,
     "metadata": {},
     "output_type": "execute_result"
    }
   ],
   "source": [
    "model.get_weights()"
   ]
  },
  {
   "cell_type": "code",
   "execution_count": 11,
   "id": "15371fc6",
   "metadata": {},
   "outputs": [],
   "source": [
    "# Step 2: Helper functions:\n",
    "# Functions to decode review\n",
    "def decode_review(encoded_review):\n",
    "    return ' '.join([reverse_word_index.get(i - 3,'?') for i in encoded_reveiw])\n",
    "\n",
    "# Function to preprocess user input\n",
    "def preprocess_text(text):\n",
    "    words = text.lower().split()\n",
    "    encoded_review = [word_index.get(word,2) + 3 for word in words]\n",
    "    padded_review = sequence.pad_sequences([encoded_review], maxlen=200)\n",
    "    return padded_review"
   ]
  },
  {
   "cell_type": "code",
   "execution_count": 12,
   "id": "f4565941",
   "metadata": {},
   "outputs": [],
   "source": [
    "# Prediction function\n",
    "def predict_sentiment(review):\n",
    "    preprocessed_input = preprocess_text(review)\n",
    "    prediction = model.predict(preprocessed_input)\n",
    "    \n",
    "    sentiment = \"Positive\" if prediction[0][0] > 0.5 else \"Negative\"\n",
    "    return sentiment, prediction[0][0]"
   ]
  },
  {
   "cell_type": "code",
   "execution_count": 16,
   "id": "4af3e242",
   "metadata": {},
   "outputs": [
    {
     "name": "stdout",
     "output_type": "stream",
     "text": [
      "\u001b[1m1/1\u001b[0m \u001b[32m━━━━━━━━━━━━━━━━━━━━\u001b[0m\u001b[37m\u001b[0m \u001b[1m0s\u001b[0m 172ms/step\n",
      "Review : The movie was fantastic. The acting was great and the plot was thrilling.\n",
      "Sentiment : Positive\n",
      "Prediction score : 0.5853739976882935\n"
     ]
    }
   ],
   "source": [
    "# Step 4 : User input and prediction\n",
    "# Example review for prediction\n",
    "example_review = \"The movie was fantastic. The acting was great and the plot was thrilling.\"\n",
    "\n",
    "sentiment, score = predict_sentiment(example_review)\n",
    "\n",
    "print(F\"Review : {example_review}\")\n",
    "print(F\"Sentiment : {sentiment}\")\n",
    "print(f'Prediction score : {score}')"
   ]
  },
  {
   "cell_type": "code",
   "execution_count": null,
   "id": "a37487a4",
   "metadata": {},
   "outputs": [],
   "source": []
  },
  {
   "cell_type": "code",
   "execution_count": null,
   "id": "1ab48ba7",
   "metadata": {},
   "outputs": [],
   "source": []
  },
  {
   "cell_type": "code",
   "execution_count": null,
   "id": "d2c3bcb8",
   "metadata": {},
   "outputs": [],
   "source": []
  },
  {
   "cell_type": "code",
   "execution_count": null,
   "id": "657fa00e",
   "metadata": {},
   "outputs": [],
   "source": []
  }
 ],
 "metadata": {
  "kernelspec": {
   "display_name": "base",
   "language": "python",
   "name": "python3"
  },
  "language_info": {
   "codemirror_mode": {
    "name": "ipython",
    "version": 3
   },
   "file_extension": ".py",
   "mimetype": "text/x-python",
   "name": "python",
   "nbconvert_exporter": "python",
   "pygments_lexer": "ipython3",
   "version": "3.12.7"
  }
 },
 "nbformat": 4,
 "nbformat_minor": 5
}
