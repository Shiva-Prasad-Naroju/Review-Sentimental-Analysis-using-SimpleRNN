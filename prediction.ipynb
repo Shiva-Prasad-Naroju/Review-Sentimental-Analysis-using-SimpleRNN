{
 "cells": [
  {
   "cell_type": "code",
   "execution_count": 1,
   "id": "408bda38",
   "metadata": {},
   "outputs": [
    {
     "name": "stdout",
     "output_type": "stream",
     "text": [
      "WARNING:tensorflow:From c:\\Users\\DELL\\Downloads\\GitHub\\End-to-End-ANN-Classification\\venv\\Lib\\site-packages\\keras\\src\\losses.py:2976: The name tf.losses.sparse_softmax_cross_entropy is deprecated. Please use tf.compat.v1.losses.sparse_softmax_cross_entropy instead.\n",
      "\n"
     ]
    }
   ],
   "source": [
    "import numpy as np\n",
    "import pandas as pd\n",
    "from tensorflow.keras.datasets import imdb\n",
    "from tensorflow.keras.preprocessing import sequence\n",
    "from tensorflow.keras.models import load_model"
   ]
  },
  {
   "cell_type": "code",
   "execution_count": 18,
   "id": "11a0da68",
   "metadata": {},
   "outputs": [],
   "source": [
    "# Load the imdb word index\n",
    "word_index = imdb.get_word_index()\n",
    "reverse_word_index = {k:i for i,k in word_index.items()}"
   ]
  },
  {
   "cell_type": "code",
   "execution_count": 27,
   "id": "8fe26280",
   "metadata": {},
   "outputs": [],
   "source": [
    "# Step 1: Load the pre trained model with relu activation\n",
    "model = load_model(\"simple_rnn_imdb_model.h5\", compile=False)"
   ]
  },
  {
   "cell_type": "code",
   "execution_count": 28,
   "id": "15371fc6",
   "metadata": {},
   "outputs": [],
   "source": [
    "# Step 2: Helper functions:\n",
    "# Functions to decode review\n",
    "def decode_review(encoded_review):\n",
    "    return ' '.join([reverse_word_index.get(i - 3,'?') for i in encoded_review])\n",
    "\n",
    "# Function to preprocess user input\n",
    "def preprocess_text(text):\n",
    "    words = text.lower().split()\n",
    "    encoded_review = [word_index.get(word,2) + 3 for word in words]\n",
    "    padded_review = sequence.pad_sequences([encoded_review], maxlen=200)\n",
    "    return padded_review"
   ]
  },
  {
   "cell_type": "code",
   "execution_count": 29,
   "id": "f4565941",
   "metadata": {},
   "outputs": [],
   "source": [
    "# Prediction function\n",
    "def predict_sentiment(review):\n",
    "    preprocessed_input = preprocess_text(review)\n",
    "    prediction = model.predict(preprocessed_input)\n",
    "    \n",
    "    sentiment = \"Positive\" if prediction[0][0] > 0.5 else \"Negative\"\n",
    "    return sentiment, prediction[0][0]\n",
    "\n",
    "# Why prediction[0][0] ?\n",
    "# --------------------\n",
    "# model.predict() returns a 2D array: [[probability]]\n",
    "\n",
    "# prediction        → [[0.824615]]  (2D array)\n",
    "# prediction[0]     → [0.824615]    (1D array)\n",
    "# prediction[0][0]  →  0.824615     (float)\n",
    "\n",
    "# prediction[0][0] extracts the float value (e.g., 0.82) from the nested list"
   ]
  },
  {
   "cell_type": "code",
   "execution_count": 30,
   "id": "4af3e242",
   "metadata": {},
   "outputs": [
    {
     "name": "stdout",
     "output_type": "stream",
     "text": [
      "\u001b[1m1/1\u001b[0m \u001b[32m━━━━━━━━━━━━━━━━━━━━\u001b[0m\u001b[37m\u001b[0m \u001b[1m0s\u001b[0m 320ms/step\n",
      "Review : The movie is not good, hero looks are amazing but the scenes are too boring, though i liked because i loved the songs. \n",
      "Sentiment : Positive\n",
      "Prediction score : 0.7595157027244568\n"
     ]
    }
   ],
   "source": [
    "# Step 4 : User input and prediction\n",
    "# Example review for prediction\n",
    "\n",
    "example_review = \"The movie is not good, hero looks are amazing but the scenes are too boring, though i liked because i loved the songs. \"\n",
    "sentiment, score = predict_sentiment(example_review)\n",
    "\n",
    "print(F\"Review : {example_review}\")\n",
    "print(F\"Sentiment : {sentiment}\")\n",
    "print(f'Prediction score : {score}')"
   ]
  },
  {
   "cell_type": "code",
   "execution_count": null,
   "id": "a37487a4",
   "metadata": {},
   "outputs": [],
   "source": []
  },
  {
   "cell_type": "code",
   "execution_count": null,
   "id": "1ab48ba7",
   "metadata": {},
   "outputs": [],
   "source": []
  },
  {
   "cell_type": "code",
   "execution_count": null,
   "id": "d2c3bcb8",
   "metadata": {},
   "outputs": [],
   "source": []
  },
  {
   "cell_type": "code",
   "execution_count": null,
   "id": "657fa00e",
   "metadata": {},
   "outputs": [],
   "source": []
  }
 ],
 "metadata": {
  "kernelspec": {
   "display_name": "Python 3",
   "language": "python",
   "name": "python3"
  },
  "language_info": {
   "codemirror_mode": {
    "name": "ipython",
    "version": 3
   },
   "file_extension": ".py",
   "mimetype": "text/x-python",
   "name": "python",
   "nbconvert_exporter": "python",
   "pygments_lexer": "ipython3",
   "version": "3.11.0"
  }
 },
 "nbformat": 4,
 "nbformat_minor": 5
}
